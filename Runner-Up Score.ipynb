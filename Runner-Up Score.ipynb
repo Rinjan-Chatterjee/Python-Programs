{
 "cells": [
  {
   "cell_type": "code",
   "execution_count": 63,
   "metadata": {},
   "outputs": [
    {
     "name": "stdout",
     "output_type": "stream",
     "text": [
      "5\n",
      "12 23 45 45 6\n",
      "23\n"
     ]
    }
   ],
   "source": [
    "#taking the number of scores to be added to the list\n",
    "n = int(input())\n",
    "\n",
    "#taking the scores\n",
    "lst1 = [int(i) for i in input().split()][:n]\n",
    "\n",
    "#removing the max score and the duplicates too\n",
    "x = max(lst1)\n",
    "while max(lst1) == x:\n",
    "    lst1.remove(max(lst1))\n",
    "\n",
    "#print(max(lst1)) --> you can also use this\n",
    "\n",
    "#sorting the list in ascending order\n",
    "lst1.sort()\n",
    "\n",
    "#printing out the last number in the list\n",
    "print(lst1[-1])"
   ]
  },
  {
   "cell_type": "code",
   "execution_count": null,
   "metadata": {},
   "outputs": [],
   "source": []
  }
 ],
 "metadata": {
  "kernelspec": {
   "display_name": "Python 3",
   "language": "python",
   "name": "python3"
  },
  "language_info": {
   "codemirror_mode": {
    "name": "ipython",
    "version": 3
   },
   "file_extension": ".py",
   "mimetype": "text/x-python",
   "name": "python",
   "nbconvert_exporter": "python",
   "pygments_lexer": "ipython3",
   "version": "3.7.6"
  }
 },
 "nbformat": 4,
 "nbformat_minor": 4
}
