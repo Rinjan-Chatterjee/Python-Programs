{
 "cells": [
  {
   "cell_type": "code",
   "execution_count": 3,
   "metadata": {},
   "outputs": [
    {
     "name": "stdout",
     "output_type": "stream",
     "text": [
      "abcdabcdabcdabcdabcd\n",
      "abcda\n",
      "Number of times the substring is present in the string: 4\n"
     ]
    }
   ],
   "source": [
    "#taking the inputs from the user\n",
    "og_string = str(input())\n",
    "sub_string = str(input())\n",
    "\n",
    "#initialization\n",
    "count = 0\n",
    "\n",
    "#checking if the sub_string is present in the string\n",
    "for i in range(len(og_string)):\n",
    "    if og_string[i:].startswith(sub_string):\n",
    "        count += 1\n",
    "        \n",
    "#printing the count of substring\n",
    "print(\"Number of times the substring is present in the string: \"  + str(count))"
   ]
  },
  {
   "cell_type": "code",
   "execution_count": null,
   "metadata": {},
   "outputs": [],
   "source": []
  }
 ],
 "metadata": {
  "kernelspec": {
   "display_name": "Python 3",
   "language": "python",
   "name": "python3"
  },
  "language_info": {
   "codemirror_mode": {
    "name": "ipython",
    "version": 3
   },
   "file_extension": ".py",
   "mimetype": "text/x-python",
   "name": "python",
   "nbconvert_exporter": "python",
   "pygments_lexer": "ipython3",
   "version": "3.7.6"
  }
 },
 "nbformat": 4,
 "nbformat_minor": 4
}
