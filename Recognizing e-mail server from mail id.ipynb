{
 "cells": [
  {
   "cell_type": "code",
   "execution_count": 1,
   "metadata": {},
   "outputs": [
    {
     "name": "stdout",
     "output_type": "stream",
     "text": [
      "rinjanchatterjee@amazon.co.in\n",
      "['r', 'i', 'n', 'j', 'a', 'n', 'c', 'h', 'a', 't', 't', 'e', 'r', 'j', 'e', 'e', '@', 'a', 'm', 'a', 'z', 'o', 'n', '.', 'c', 'o', '.', 'i', 'n']\n",
      "['r', 'i', 'n', 'j', 'a', 'n', 'c', 'h', 'a', 't', 't', 'e', 'r', 'j', 'e', 'e', '@', 'a', 'm', 'a', 'z', 'o', 'n']\n",
      "['a', 'm', 'a', 'z', 'o', 'n']\n",
      "amazon\n"
     ]
    }
   ],
   "source": [
    "#program to get the email server from an email id\n",
    "\n",
    "#take input as a string\n",
    "string1 = str(input())\n",
    "\n",
    "#convert it to list\n",
    "lst2 = list(string1)\n",
    "print(lst2)\n",
    "\n",
    "#grab the index values of both the desired char \n",
    "target_index = lst2.index('.')\n",
    "\n",
    "lst3 = lst2[:target_index]\n",
    "print(lst3)\n",
    "\n",
    "target_index2 = lst3.index('@')\n",
    "\n",
    "lst4 = lst3[target_index2+1:]\n",
    "print(lst4)\n",
    "\n",
    "#join the list to form a string\n",
    "print(''.join(lst4))"
   ]
  },
  {
   "cell_type": "code",
   "execution_count": null,
   "metadata": {},
   "outputs": [],
   "source": []
  }
 ],
 "metadata": {
  "kernelspec": {
   "display_name": "Python 3",
   "language": "python",
   "name": "python3"
  },
  "language_info": {
   "codemirror_mode": {
    "name": "ipython",
    "version": 3
   },
   "file_extension": ".py",
   "mimetype": "text/x-python",
   "name": "python",
   "nbconvert_exporter": "python",
   "pygments_lexer": "ipython3",
   "version": "3.7.6"
  }
 },
 "nbformat": 4,
 "nbformat_minor": 4
}
