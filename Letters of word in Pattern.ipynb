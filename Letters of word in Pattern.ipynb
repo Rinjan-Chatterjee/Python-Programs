{
 "cells": [
  {
   "cell_type": "code",
   "execution_count": 1,
   "metadata": {},
   "outputs": [
    {
     "name": "stdout",
     "output_type": "stream",
     "text": [
      "rinjan\n",
      "r\n",
      "ri\n",
      "rin\n",
      "rinj\n",
      "rinja\n",
      "rinjan\n"
     ]
    }
   ],
   "source": [
    "#progrm to display the letters of the word in pattern\n",
    "\n",
    "#take the string\n",
    "str1 = str(input())  \n",
    "\n",
    "#initialization\n",
    "x = \"\"  \n",
    "\n",
    "#run the loop and print the iteration\n",
    "for i in str1:  \n",
    "    x += i  \n",
    "    print(x)  "
   ]
  },
  {
   "cell_type": "code",
   "execution_count": null,
   "metadata": {},
   "outputs": [],
   "source": []
  }
 ],
 "metadata": {
  "kernelspec": {
   "display_name": "Python 3",
   "language": "python",
   "name": "python3"
  },
  "language_info": {
   "codemirror_mode": {
    "name": "ipython",
    "version": 3
   },
   "file_extension": ".py",
   "mimetype": "text/x-python",
   "name": "python",
   "nbconvert_exporter": "python",
   "pygments_lexer": "ipython3",
   "version": "3.7.6"
  }
 },
 "nbformat": 4,
 "nbformat_minor": 4
}
