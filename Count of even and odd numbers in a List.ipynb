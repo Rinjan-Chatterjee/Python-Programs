{
 "cells": [
  {
   "cell_type": "code",
   "execution_count": 12,
   "metadata": {},
   "outputs": [
    {
     "name": "stdout",
     "output_type": "stream",
     "text": [
      "5\n",
      "1 2 3 4 5\n",
      "[1, 2, 3, 4, 5]\n",
      "Number of even numbers present in the list are: 2\n",
      "Number of odd numbers present in the list are: 3\n"
     ]
    }
   ],
   "source": [
    "#taking the size of the list\n",
    "n = int(input())\n",
    "\n",
    "#taking the list values\n",
    "lst = [int(i) for i in input().split()][:n]\n",
    "print(lst)\n",
    "\n",
    "#initializing\n",
    "count_even = 0\n",
    "count_odd = 0\n",
    "\n",
    "#counting the even and odd numbers\n",
    "for ele in range(0,n):\n",
    "    if lst[ele] % 2 == 0:\n",
    "        count_even += 1\n",
    "    else:\n",
    "        count_odd += 1\n",
    "\n",
    "#printing the count\n",
    "print(\"Number of even numbers present in the list are: \" + str(count_even))\n",
    "print(\"Number of odd numbers present in the list are: \" + str(count_odd))"
   ]
  },
  {
   "cell_type": "code",
   "execution_count": null,
   "metadata": {},
   "outputs": [],
   "source": []
  }
 ],
 "metadata": {
  "kernelspec": {
   "display_name": "Python 3",
   "language": "python",
   "name": "python3"
  },
  "language_info": {
   "codemirror_mode": {
    "name": "ipython",
    "version": 3
   },
   "file_extension": ".py",
   "mimetype": "text/x-python",
   "name": "python",
   "nbconvert_exporter": "python",
   "pygments_lexer": "ipython3",
   "version": "3.7.6"
  }
 },
 "nbformat": 4,
 "nbformat_minor": 4
}
