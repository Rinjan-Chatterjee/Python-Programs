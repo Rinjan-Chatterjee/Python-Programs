{
 "cells": [
  {
   "cell_type": "code",
   "execution_count": 20,
   "metadata": {},
   "outputs": [
    {
     "name": "stdout",
     "output_type": "stream",
     "text": [
      "rinjan\n",
      "rin\n",
      "Yay! the substring is present in the String.\n"
     ]
    }
   ],
   "source": [
    "string = str(input())\n",
    "sub_string = str(input())\n",
    "\n",
    "if len(string)<len(sub_string): print(\"Invalid Input!\")\n",
    "\n",
    "count = 0\n",
    "\n",
    "for ele in range(len(string)):\n",
    "    if string[ele:].startswith(sub_string):\n",
    "        count += 1\n",
    "        \n",
    "if count >= 1:\n",
    "    print(\"Yay! the substring is present in the String.\")\n",
    "\n",
    "if count < 1:\n",
    "    print(\"Oops! it seems the Substring is not present in the String.\")"
   ]
  },
  {
   "cell_type": "code",
   "execution_count": null,
   "metadata": {},
   "outputs": [],
   "source": []
  }
 ],
 "metadata": {
  "kernelspec": {
   "display_name": "Python 3",
   "language": "python",
   "name": "python3"
  },
  "language_info": {
   "codemirror_mode": {
    "name": "ipython",
    "version": 3
   },
   "file_extension": ".py",
   "mimetype": "text/x-python",
   "name": "python",
   "nbconvert_exporter": "python",
   "pygments_lexer": "ipython3",
   "version": "3.7.6"
  }
 },
 "nbformat": 4,
 "nbformat_minor": 4
}
