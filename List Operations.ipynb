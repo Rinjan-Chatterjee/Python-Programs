{
 "cells": [
  {
   "cell_type": "code",
   "execution_count": 1,
   "metadata": {},
   "outputs": [
    {
     "name": "stdout",
     "output_type": "stream",
     "text": [
      "4\n",
      "append 1\n",
      "append 4\n",
      "reverse\n",
      "print\n",
      "[4, 1]\n"
     ]
    }
   ],
   "source": [
    "#taking inputs\n",
    "n = int(input())\n",
    "\n",
    "#initiazation\n",
    "lst = []\n",
    "\n",
    "#performing the actions as per user request\n",
    "for i in range(0,n):\n",
    "    operation = input().split();\n",
    "    if operation[0] == \"print\":\n",
    "        print(lst)\n",
    "    elif operation[0] == \"insert\":\n",
    "        lst.insert(int(operation[1]),int(operation[2]))\n",
    "    elif operation[0] == \"remove\":\n",
    "        lst.remove(int(operation[1]))\n",
    "    elif operation[0] == \"pop\":\n",
    "        lst.pop();\n",
    "    elif operation[0] == \"append\":\n",
    "        lst.append(int(operation[1]))\n",
    "    elif operation[0] == \"sort\":\n",
    "        lst.sort();\n",
    "    elif operation[0] == \"reverse\":\n",
    "        lst.reverse();\n",
    "    else:\n",
    "        print(\"Invalid Operation\")"
   ]
  },
  {
   "cell_type": "code",
   "execution_count": null,
   "metadata": {},
   "outputs": [],
   "source": []
  }
 ],
 "metadata": {
  "kernelspec": {
   "display_name": "Python 3",
   "language": "python",
   "name": "python3"
  },
  "language_info": {
   "codemirror_mode": {
    "name": "ipython",
    "version": 3
   },
   "file_extension": ".py",
   "mimetype": "text/x-python",
   "name": "python",
   "nbconvert_exporter": "python",
   "pygments_lexer": "ipython3",
   "version": "3.7.6"
  }
 },
 "nbformat": 4,
 "nbformat_minor": 4
}
